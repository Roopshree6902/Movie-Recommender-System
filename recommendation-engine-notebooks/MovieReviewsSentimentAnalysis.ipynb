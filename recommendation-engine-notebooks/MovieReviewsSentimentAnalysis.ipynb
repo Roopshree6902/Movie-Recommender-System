{
  "cells": [
    {
      "cell_type": "code",
      "execution_count": 25,
      "metadata": {
        "colab": {
          "base_uri": "https://localhost:8080/",
          "height": 340
        },
        "id": "O9X5rhXAe_9Y",
        "outputId": "fb66d762-b3cd-487a-f547-2d3c16d0b7d9"
      },
      "outputs": [
        {
          "name": "stdout",
          "output_type": "stream",
          "text": [
            "Requirement already up-to-date: scikit-learn in c:\\users\\roopshree\\appdata\\local\\programs\\python\\python37\\lib\\site-packages (1.0.2)\n",
            "Requirement already satisfied, skipping upgrade: numpy>=1.14.6 in c:\\users\\roopshree\\appdata\\local\\programs\\python\\python37\\lib\\site-packages (from scikit-learn) (1.19.5)\n",
            "Requirement already satisfied, skipping upgrade: joblib>=0.11 in c:\\users\\roopshree\\appdata\\local\\programs\\python\\python37\\lib\\site-packages (from scikit-learn) (1.0.1)\n",
            "Requirement already satisfied, skipping upgrade: scipy>=1.1.0 in c:\\users\\roopshree\\appdata\\local\\programs\\python\\python37\\lib\\site-packages (from scikit-learn) (1.5.4)\n",
            "Requirement already satisfied, skipping upgrade: threadpoolctl>=2.0.0 in c:\\users\\roopshree\\appdata\\local\\programs\\python\\python37\\lib\\site-packages (from scikit-learn) (2.1.0)\n"
          ]
        },
        {
          "name": "stderr",
          "output_type": "stream",
          "text": [
            "You are using pip version 19.0.3, however version 22.1.1 is available.\n",
            "You should consider upgrading via the 'python -m pip install --upgrade pip' command.\n"
          ]
        }
      ],
      "source": [
        "!pip install -U scikit-learn"
      ]
    },
    {
      "cell_type": "code",
      "execution_count": 26,
      "metadata": {
        "colab": {
          "base_uri": "https://localhost:8080/"
        },
        "id": "_gS2Y2r-yUcN",
        "outputId": "4f0ae5bc-bb30-4b8c-c224-10f3310eccdd"
      },
      "outputs": [
        {
          "name": "stderr",
          "output_type": "stream",
          "text": [
            "[nltk_data] Downloading package stopwords to\n",
            "[nltk_data]     C:\\Users\\roopshree\\AppData\\Roaming\\nltk_data...\n",
            "[nltk_data]   Package stopwords is already up-to-date!\n",
            "[nltk_data] Downloading package wordnet to\n",
            "[nltk_data]     C:\\Users\\roopshree\\AppData\\Roaming\\nltk_data...\n",
            "[nltk_data]   Package wordnet is already up-to-date!\n",
            "[nltk_data] Downloading package punkt to\n",
            "[nltk_data]     C:\\Users\\roopshree\\AppData\\Roaming\\nltk_data...\n",
            "[nltk_data]   Package punkt is already up-to-date!\n"
          ]
        }
      ],
      "source": [
        "import os\n",
        "import re\n",
        "import nltk\n",
        "import numpy as np\n",
        "import pandas as pd\n",
        "import matplotlib.pyplot as plt\n",
        "from bs4 import BeautifulSoup\n",
        "nltk.download('stopwords')\n",
        "nltk.download('wordnet')\n",
        "nltk.download('punkt')\n",
        "from nltk.stem import WordNetLemmatizer\n",
        "from nltk.corpus import stopwords\n",
        "\n",
        "import xgboost\n",
        "from xgboost import XGBClassifier\n",
        "from sklearn.model_selection import train_test_split\n",
        "from sklearn.feature_extraction.text import TfidfVectorizer\n",
        "from sklearn.ensemble import RandomForestClassifier\n",
        "from sklearn.naive_bayes import MultinomialNB\n",
        "from sklearn.metrics import accuracy_score, classification_report, confusion_matrix\n",
        "\n",
        "%matplotlib inline"
      ]
    },
    {
      "cell_type": "code",
      "execution_count": 27,
      "metadata": {
        "colab": {
          "base_uri": "https://localhost:8080/"
        },
        "id": "vj5U27cGe5K5",
        "outputId": "1e118398-4875-434d-e332-b870e864535a"
      },
      "outputs": [
        {
          "name": "stdout",
          "output_type": "stream",
          "text": [
            "1.0.2\n"
          ]
        }
      ],
      "source": [
        "import sklearn\n",
        "print(sklearn.__version__)"
      ]
    },
    {
      "cell_type": "code",
      "execution_count": 28,
      "metadata": {
        "id": "Rqq7hp-l4z-O"
      },
      "outputs": [],
      "source": [
        "lemmatizer = WordNetLemmatizer()\n",
        "def preprocess_review(review):\n",
        "    soup = BeautifulSoup(review, \"html.parser\")\n",
        "    review = soup.get_text()\n",
        "    review = re.sub('\\[[^]]*\\]', ' ', review)\n",
        "    review = re.sub('[^a-zA-Z]', ' ', review)\n",
        "    review = review.lower()\n",
        "    review = nltk.word_tokenize(review)\n",
        "    review = [word.strip() for word in review if word not in set(stopwords.words('english'))]\n",
        "    review = [lemmatizer.lemmatize(word) for word in review]\n",
        "    return \" \".join(review)"
      ]
    },
    {
      "cell_type": "code",
      "execution_count": 29,
      "metadata": {
        "id": "i_4SAe2S6TYI"
      },
      "outputs": [],
      "source": [
        "# data[\"review\"] = data[\"review\"].apply(preprocess_review)"
      ]
    },
    {
      "cell_type": "code",
      "execution_count": 30,
      "metadata": {
        "id": "-oK61hMj4VL2"
      },
      "outputs": [],
      "source": [
        "DATA_PATH = \".\\data\\cleaned_and_lemmatized.csv\"\n",
        "data = pd.read_csv(DATA_PATH)\n"
      ]
    },
    {
      "cell_type": "code",
      "execution_count": 31,
      "metadata": {
        "colab": {
          "base_uri": "https://localhost:8080/",
          "height": 203
        },
        "id": "HBqFAGqm4nGg",
        "outputId": "d7d65fc8-d5a1-440e-95ea-93109a839350"
      },
      "outputs": [
        {
          "data": {
            "text/html": [
              "<div>\n",
              "<style scoped>\n",
              "    .dataframe tbody tr th:only-of-type {\n",
              "        vertical-align: middle;\n",
              "    }\n",
              "\n",
              "    .dataframe tbody tr th {\n",
              "        vertical-align: top;\n",
              "    }\n",
              "\n",
              "    .dataframe thead th {\n",
              "        text-align: right;\n",
              "    }\n",
              "</style>\n",
              "<table border=\"1\" class=\"dataframe\">\n",
              "  <thead>\n",
              "    <tr style=\"text-align: right;\">\n",
              "      <th></th>\n",
              "      <th>review</th>\n",
              "      <th>sentiment</th>\n",
              "    </tr>\n",
              "  </thead>\n",
              "  <tbody>\n",
              "    <tr>\n",
              "      <th>0</th>\n",
              "      <td>one reviewer mentioned watching oz episode hoo...</td>\n",
              "      <td>1</td>\n",
              "    </tr>\n",
              "    <tr>\n",
              "      <th>1</th>\n",
              "      <td>wonderful little production filming technique ...</td>\n",
              "      <td>1</td>\n",
              "    </tr>\n",
              "    <tr>\n",
              "      <th>2</th>\n",
              "      <td>thought wonderful way spend time hot summer we...</td>\n",
              "      <td>1</td>\n",
              "    </tr>\n",
              "    <tr>\n",
              "      <th>3</th>\n",
              "      <td>basically family little boy jake think zombie ...</td>\n",
              "      <td>0</td>\n",
              "    </tr>\n",
              "    <tr>\n",
              "      <th>4</th>\n",
              "      <td>petter mattei love time money visually stunnin...</td>\n",
              "      <td>1</td>\n",
              "    </tr>\n",
              "  </tbody>\n",
              "</table>\n",
              "</div>"
            ],
            "text/plain": [
              "                                              review  sentiment\n",
              "0  one reviewer mentioned watching oz episode hoo...          1\n",
              "1  wonderful little production filming technique ...          1\n",
              "2  thought wonderful way spend time hot summer we...          1\n",
              "3  basically family little boy jake think zombie ...          0\n",
              "4  petter mattei love time money visually stunnin...          1"
            ]
          },
          "execution_count": 31,
          "metadata": {},
          "output_type": "execute_result"
        }
      ],
      "source": [
        "data.head()"
      ]
    },
    {
      "cell_type": "code",
      "execution_count": 32,
      "metadata": {
        "id": "hRKsEyFdQosV"
      },
      "outputs": [],
      "source": [
        "data=data.sample(2000)"
      ]
    },
    {
      "cell_type": "code",
      "execution_count": 33,
      "metadata": {
        "colab": {
          "base_uri": "https://localhost:8080/",
          "height": 262
        },
        "id": "myL6Z6uqDgYH",
        "outputId": "555ee00e-0f42-4ac1-8662-014263430d1a"
      },
      "outputs": [
        {
          "data": {
            "image/png": "[encoded data removed]",
            "text/plain": [
              "<Figure size 432x288 with 1 Axes>"
            ]
          },
          "metadata": {
            "needs_background": "light"
          },
          "output_type": "display_data"
        }
      ],
      "source": [
        "data[\"sentiment\"].value_counts().plot(kind=\"bar\")\n",
        "plt.show()"
      ]
    },
    {
      "cell_type": "code",
      "execution_count": 34,
      "metadata": {
        "colab": {
          "base_uri": "https://localhost:8080/"
        },
        "id": "lFQY7QSfCMXo",
        "outputId": "4d195ef0-d2c5-406d-e19e-dc0bfc9f8579"
      },
      "outputs": [
        {
          "data": {
            "text/plain": [
              "((2000,), (2000,))"
            ]
          },
          "execution_count": 34,
          "metadata": {},
          "output_type": "execute_result"
        }
      ],
      "source": [
        "reviews = data[\"review\"].values\n",
        "sentiments = data[\"sentiment\"].values\n",
        "reviews.shape, sentiments.shape"
      ]
    },
    {
      "cell_type": "code",
      "execution_count": 35,
      "metadata": {
        "colab": {
          "base_uri": "https://localhost:8080/"
        },
        "id": "9k6PsCTEDdjb",
        "outputId": "88d8bda1-2392-426b-ba68-6cd8725cffe6"
      },
      "outputs": [
        {
          "data": {
            "text/plain": [
              "((1600,), (1600,))"
            ]
          },
          "execution_count": 35,
          "metadata": {},
          "output_type": "execute_result"
        }
      ],
      "source": [
        "X_train,X_test, y_train, y_test = train_test_split(reviews, sentiments, test_size = 0.2, random_state = 24)\n",
        "X_train.shape, y_train.shape"
      ]
    },
    {
      "cell_type": "code",
      "execution_count": 36,
      "metadata": {
        "colab": {
          "base_uri": "https://localhost:8080/"
        },
        "id": "a6ItV4SID3Pc",
        "outputId": "f072e52e-6b15-4022-dde3-4126a377a023"
      },
      "outputs": [
        {
          "data": {
            "text/plain": [
              "((1600, 366544), (400, 366544))"
            ]
          },
          "execution_count": 36,
          "metadata": {},
          "output_type": "execute_result"
        }
      ],
      "source": [
        "tf_idf = TfidfVectorizer(ngram_range=(1,3))\n",
        "X_train = tf_idf.fit_transform(X_train)\n",
        "X_test = tf_idf.transform(X_test)\n",
        "X_train.shape, X_test.shape"
      ]
    },
    {
      "cell_type": "code",
      "execution_count": 37,
      "metadata": {
        "colab": {
          "base_uri": "https://localhost:8080/"
        },
        "id": "5701xChQQI4I",
        "outputId": "20d9822e-1ddd-4dd5-9e3b-8e20ee1cbf37"
      },
      "outputs": [
        {
          "name": "stdout",
          "output_type": "stream",
          "text": [
            "0.81\n"
          ]
        },
        {
          "data": {
            "text/plain": [
              "array([[142,  62],\n",
              "       [ 14, 182]], dtype=int64)"
            ]
          },
          "execution_count": 37,
          "metadata": {},
          "output_type": "execute_result"
        }
      ],
      "source": [
        "mnb_model = MultinomialNB()\n",
        "mnb_model.fit(X_train, y_train)\n",
        "preds = mnb_model.predict(X_test)\n",
        "print(accuracy_score(y_test, preds))\n",
        "confusion_matrix(y_test, preds)"
      ]
    },
    {
      "cell_type": "code",
      "execution_count": 38,
      "metadata": {
        "id": "_Fb8xh95Lzpw"
      },
      "outputs": [],
      "source": [
        "tf_idf = TfidfVectorizer(ngram_range=(1,3))\n",
        "X = tf_idf.fit_transform(reviews)"
      ]
    },
    {
      "cell_type": "code",
      "execution_count": 39,
      "metadata": {
        "colab": {
          "base_uri": "https://localhost:8080/"
        },
        "id": "7PySmV45g6VZ",
        "outputId": "cc6d79a9-9b9d-4631-f78e-7a28bbb37985"
      },
      "outputs": [
        {
          "name": "stdout",
          "output_type": "stream",
          "text": [
            "1.0\n"
          ]
        },
        {
          "data": {
            "text/plain": [
              "array([[ 988,    0],\n",
              "       [   0, 1012]], dtype=int64)"
            ]
          },
          "execution_count": 39,
          "metadata": {},
          "output_type": "execute_result"
        }
      ],
      "source": [
        "mnb_model = MultinomialNB()\n",
        "mnb_model.fit(X, sentiments)\n",
        "preds = mnb_model.predict(X)\n",
        "print(accuracy_score(sentiments, preds))\n",
        "confusion_matrix(sentiments, preds)"
      ]
    },
    {
      "cell_type": "code",
      "execution_count": 40,
      "metadata": {
        "colab": {
          "base_uri": "https://localhost:8080/"
        },
        "id": "sMtcZpXQMxff",
        "outputId": "47ff0a7e-f14f-4fd9-c8d8-9fa56f545ddd"
      },
      "outputs": [
        {
          "data": {
            "text/plain": [
              "(2000, 449613)"
            ]
          },
          "execution_count": 40,
          "metadata": {},
          "output_type": "execute_result"
        }
      ],
      "source": [
        "X.shape"
      ]
    },
    {
      "cell_type": "code",
      "execution_count": 41,
      "metadata": {
        "id": "cLVBNFZOLXVX"
      },
      "outputs": [],
      "source": [
        "import pickle"
      ]
    },
    {
      "cell_type": "code",
      "execution_count": 42,
      "metadata": {
        "id": "AF8n_Bm6NBcZ"
      },
      "outputs": [],
      "source": [
        "pickle.dump(mnb_model, open(\"sentiment_classifier.pkl\", \"wb\"))\n",
        "pickle.dump(tf_idf, open(\"tf_idf.pkl\", \"wb\"))"
      ]
    },
    {
      "cell_type": "code",
      "execution_count": 43,
      "metadata": {
        "colab": {
          "base_uri": "https://localhost:8080/"
        },
        "id": "AGSdvCmKNO97",
        "outputId": "d901b710-236d-4620-904f-7f5e3c1db968"
      },
      "outputs": [
        {
          "data": {
            "text/plain": [
              "0"
            ]
          },
          "execution_count": 43,
          "metadata": {},
          "output_type": "execute_result"
        }
      ],
      "source": [
        "mnb_model.predict(X[0])[0]"
      ]
    },
    {
      "cell_type": "code",
      "execution_count": 44,
      "metadata": {
        "colab": {
          "base_uri": "https://localhost:8080/"
        },
        "id": "fNTOmcvigD6f",
        "outputId": "dcfece55-4455-44c5-cbb3-184d865a7d69"
      },
      "outputs": [
        {
          "data": {
            "text/plain": [
              "0"
            ]
          },
          "execution_count": 44,
          "metadata": {},
          "output_type": "execute_result"
        }
      ],
      "source": [
        "sentiments[0]"
      ]
    },
    {
      "cell_type": "code",
      "execution_count": 45,
      "metadata": {
        "colab": {
          "base_uri": "https://localhost:8080/"
        },
        "id": "_QssHkcdXdJZ",
        "outputId": "0aad7df0-626b-4a98-acfe-4d45590792d7"
      },
      "outputs": [
        {
          "data": {
            "text/plain": [
              "(1, 449613)"
            ]
          },
          "execution_count": 45,
          "metadata": {},
          "output_type": "execute_result"
        }
      ],
      "source": [
        "X[0].shape"
      ]
    },
    {
      "cell_type": "code",
      "execution_count": null,
      "metadata": {
        "id": "S5qUdTopX1r0"
      },
      "outputs": [],
      "source": []
    }
  ],
  "metadata": {
    "colab": {
      "collapsed_sections": [],
      "name": "MovieReviewsSentimentAnalysis.ipynb",
      "provenance": []
    },
    "interpreter": {
      "hash": "2a481f9ced36d70587f798009fa27bea7c14f0d38a2d636ce448ae7cf6d9ce8f"
    },
    "kernelspec": {
      "display_name": "Python 3.7.3 64-bit",
      "language": "python",
      "name": "python3"
    },
    "language_info": {
      "codemirror_mode": {
        "name": "ipython",
        "version": 3
      },
      "file_extension": ".py",
      "mimetype": "text/x-python",
      "name": "python",
      "nbconvert_exporter": "python",
      "pygments_lexer": "ipython3",
      "version": "3.7.3"
    }
  },
  "nbformat": 4,
  "nbformat_minor": 0
}
