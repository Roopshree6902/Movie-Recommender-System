{
 "cells": [
  {
   "cell_type": "code",
   "execution_count": 9,
   "metadata": {},
   "outputs": [],
   "source": [
    "import os\n",
    "import json\n",
    "import pickle\n",
    "import requests\n",
    "import numpy as np\n",
    "import pandas as pd\n",
    "\n",
    "from tmdbv3api import TMDb\n",
    "from tmdbv3api import Movie\n",
    "from sklearn.feature_extraction.text import CountVectorizer\n",
    "from sklearn.metrics.pairwise import cosine_similarity\n",
    "from dotenv import load_dotenv\n",
    "\n",
    "\n",
    "load_dotenv()\n"
   ]
  },
  {
   "cell_type": "code",
   "execution_count": 10,
   "metadata": {},
   "outputs": [
    {
     "data": {
      "text/html": [
       "<div>\n",
       "<style scoped>\n",
       "    .dataframe tbody tr th:only-of-type {\n",
       "        vertical-align: middle;\n",
       "    }\n",
       "\n",
       "    .dataframe tbody tr th {\n",
       "        vertical-align: top;\n",
       "    }\n",
       "\n",
       "    .dataframe thead th {\n",
       "        text-align: right;\n",
       "    }\n",
       "</style>\n",
       "<table border=\"1\" class=\"dataframe\">\n",
       "  <thead>\n",
       "    <tr style=\"text-align: right;\">\n",
       "      <th></th>\n",
       "      <th>movie_title</th>\n",
       "      <th>genres</th>\n",
       "      <th>director_name</th>\n",
       "      <th>actor_1_name</th>\n",
       "      <th>actor_2_name</th>\n",
       "      <th>actor_3_name</th>\n",
       "      <th>movie_feature</th>\n",
       "    </tr>\n",
       "  </thead>\n",
       "  <tbody>\n",
       "    <tr>\n",
       "      <td>0</td>\n",
       "      <td>avatar</td>\n",
       "      <td>Action Adventure Fantasy Sci-Fi</td>\n",
       "      <td>James Cameron</td>\n",
       "      <td>CCH Pounder</td>\n",
       "      <td>Joel David Moore</td>\n",
       "      <td>Wes Studi</td>\n",
       "      <td>CCH Pounder Joel David Moore Wes Studi James C...</td>\n",
       "    </tr>\n",
       "    <tr>\n",
       "      <td>1</td>\n",
       "      <td>pirates of the caribbean: at world's end</td>\n",
       "      <td>Action Adventure Fantasy</td>\n",
       "      <td>Gore Verbinski</td>\n",
       "      <td>Johnny Depp</td>\n",
       "      <td>Orlando Bloom</td>\n",
       "      <td>Jack Davenport</td>\n",
       "      <td>Johnny Depp Orlando Bloom Jack Davenport Gore ...</td>\n",
       "    </tr>\n",
       "    <tr>\n",
       "      <td>2</td>\n",
       "      <td>spectre</td>\n",
       "      <td>Action Adventure Thriller</td>\n",
       "      <td>Sam Mendes</td>\n",
       "      <td>Christoph Waltz</td>\n",
       "      <td>Rory Kinnear</td>\n",
       "      <td>Stephanie Sigman</td>\n",
       "      <td>Christoph Waltz Rory Kinnear Stephanie Sigman ...</td>\n",
       "    </tr>\n",
       "    <tr>\n",
       "      <td>3</td>\n",
       "      <td>the dark knight rises</td>\n",
       "      <td>Action Thriller</td>\n",
       "      <td>Christopher Nolan</td>\n",
       "      <td>Tom Hardy</td>\n",
       "      <td>Christian Bale</td>\n",
       "      <td>Joseph Gordon-Levitt</td>\n",
       "      <td>Tom Hardy Christian Bale Joseph Gordon-Levitt ...</td>\n",
       "    </tr>\n",
       "    <tr>\n",
       "      <td>4</td>\n",
       "      <td>star wars: episode vii - the force awakens</td>\n",
       "      <td>Documentary</td>\n",
       "      <td>Doug Walker</td>\n",
       "      <td>Doug Walker</td>\n",
       "      <td>Rob Walker</td>\n",
       "      <td>unknown</td>\n",
       "      <td>Doug Walker Rob Walker unknown Doug Walker Doc...</td>\n",
       "    </tr>\n",
       "  </tbody>\n",
       "</table>\n",
       "</div>"
      ],
      "text/plain": [
       "                                  movie_title  \\\n",
       "0                                      avatar   \n",
       "1    pirates of the caribbean: at world's end   \n",
       "2                                     spectre   \n",
       "3                       the dark knight rises   \n",
       "4  star wars: episode vii - the force awakens   \n",
       "\n",
       "                            genres      director_name     actor_1_name  \\\n",
       "0  Action Adventure Fantasy Sci-Fi      James Cameron      CCH Pounder   \n",
       "1         Action Adventure Fantasy     Gore Verbinski      Johnny Depp   \n",
       "2        Action Adventure Thriller         Sam Mendes  Christoph Waltz   \n",
       "3                  Action Thriller  Christopher Nolan        Tom Hardy   \n",
       "4                      Documentary        Doug Walker      Doug Walker   \n",
       "\n",
       "       actor_2_name          actor_3_name  \\\n",
       "0  Joel David Moore             Wes Studi   \n",
       "1     Orlando Bloom        Jack Davenport   \n",
       "2      Rory Kinnear      Stephanie Sigman   \n",
       "3    Christian Bale  Joseph Gordon-Levitt   \n",
       "4        Rob Walker               unknown   \n",
       "\n",
       "                                       movie_feature  \n",
       "0  CCH Pounder Joel David Moore Wes Studi James C...  \n",
       "1  Johnny Depp Orlando Bloom Jack Davenport Gore ...  \n",
       "2  Christoph Waltz Rory Kinnear Stephanie Sigman ...  \n",
       "3  Tom Hardy Christian Bale Joseph Gordon-Levitt ...  \n",
       "4  Doug Walker Rob Walker unknown Doug Walker Doc...  "
      ]
     },
     "execution_count": 10,
     "metadata": {},
     "output_type": "execute_result"
    }
   ],
   "source": [
    "data = pd.read_csv(\"./final_data.csv\")\n",
    "data.head()"
   ]
  },
  {
   "cell_type": "code",
   "execution_count": 11,
   "metadata": {},
   "outputs": [],
   "source": [
    "count_vectorizer = CountVectorizer()\n",
    "count_matrix = count_vectorizer.fit_transform(data[\"movie_feature\"])\n",
    "similarity_matrix = cosine_similarity(count_matrix)"
   ]
  },
  {
   "cell_type": "code",
   "execution_count": 12,
   "metadata": {},
   "outputs": [],
   "source": [
    "def convert(o):\n",
    "    if isinstance(o, np.generic):\n",
    "        return o.item()\n",
    "    raise TypeError"
   ]
  },
  {
   "cell_type": "code",
   "execution_count": 13,
   "metadata": {},
   "outputs": [],
   "source": [
    "tmdb = TMDb()\n",
    "TMDB_API_KEY = os.getenv('TMDB_API_KEY')\n",
    "tmdb.api_key = TMDB_API_KEY\n"
   ]
  },
  {
   "cell_type": "code",
   "execution_count": 25,
   "metadata": {},
   "outputs": [],
   "source": [
    "def movie_search_engine(movie_name, TMDB_API_KEY = TMDB_API_KEY):\n",
    "    MOVIE_SEARCH_LINK = \"https://api.themoviedb.org/3/movie/\"\n",
    "    BASE_IMAGE_URL = \"https://image.tmdb.org/t/p/original\"\n",
    "    tmdb_movie = Movie()\n",
    "    search_result = tmdb_movie.search(movie_name.strip())\n",
    "    movie_id = search_result[0][\"id\"]\n",
    "    response = requests.get(MOVIE_SEARCH_LINK+\"{}?api_key={}\".format(movie_id, tmdb.api_key))\n",
    "    json_response = response.json()\n",
    "    # print(json_response)\n",
    "    movie_data = {}\n",
    "    movie_data[\"title\"] = json_response[\"original_title\"] if json_response[\"original_title\"] and json_response[\"original_title\"].lower()==movie_name else json_response[\"title\"]\n",
    "    movie_data[\"poster\"] = BASE_IMAGE_URL + json_response[\"poster_path\"]\n",
    "    movie_data[\"overview\"] = json_response[\"overview\"]\n",
    "    genres = []\n",
    "    for genre in json_response[\"genres\"]:\n",
    "        genres.append(genre[\"name\"])\n",
    "    movie_data[\"genres\"] = \"*\".join(genres)\n",
    "    movie_data[\"rating\"] = json_response[\"vote_average\"]\n",
    "    movie_data[\"total_votes\"] = json_response[\"vote_count\"]\n",
    "    movie_data[\"tag_line\"] = json_response[\"tagline\"]\n",
    "    movie_data[\"status\"] = json_response[\"status\"]\n",
    "    return movie_data"
   ]
  },
  {
   "cell_type": "code",
   "execution_count": 26,
   "metadata": {},
   "outputs": [],
   "source": [
    "def movie_recommender_engine(movie_name, n_top_recommendations=15):\n",
    "    movie_name = movie_name.strip().lower()\n",
    "    if movie_name not in data[\"movie_title\"].unique():\n",
    "        return json.dumps({\"error\": \"Sorry! Movie is not in our database. Please check the spelling or try with another movie name\"}, default=convert)\n",
    "    else:\n",
    "        index = data.loc[data[\"movie_title\"] == movie_name].index[0]\n",
    "        matrix = list(enumerate(similarity_matrix[index]))\n",
    "        matrix = sorted(matrix, key=lambda x:x[1], reverse=True)\n",
    "        recommended_indexes = [index for (index, similarity) in matrix[1:n_top_recommendations+1]]\n",
    "        recommended_movies = {}\n",
    "        for i, index in enumerate(recommended_indexes):\n",
    "            r_movie_name = data[\"movie_title\"][index]\n",
    "            movie_data = movie_search_engine(r_movie_name)\n",
    "            recommended_movies[\"movie\"+str(i+1)] = movie_data\n",
    "        recommended_movies = json.dumps(recommended_movies, default = convert)\n",
    "        return recommended_movies"
   ]
  },
  {
   "cell_type": "code",
   "execution_count": 27,
   "metadata": {},
   "outputs": [
    {
     "data": {
      "text/plain": [
       "'{\"movie1\": {\"title\": \"Aliens\", \"poster\": \"https://image.tmdb.org/t/p/original/r1x5JGpyqZU8PYhbs4UcrO1Xb6x.jpg\", \"overview\": \"When Ripley\\'s lifepod is found by a salvage crew over 50 years later, she finds that terra-formers are on the very planet they found the alien species. When the company sends a family of colonists out to investigate her story\\\\u2014all contact is lost with the planet and colonists. They enlist Ripley and the colonial marines to return and search for answers.\", \"genres\": \"Action*Thriller*Science Fiction\", \"rating\": 7.9, \"total_votes\": 6917, \"tag_line\": \"This time it\\'s war.\", \"status\": \"Released\"}, \"movie2\": {\"title\": \"Mystery Men\", \"poster\": \"https://image.tmdb.org/t/p/original/h8syCTkVSyp2b9l4FHLTBic7EHt.jpg\", \"overview\": \"When Champion City\\'s hero Captain Amazing is kidnapped by the recently paroled supervillain Casanova Frankenstein, a trio of average, everyday superheroes -- Mr. Furious, the Shoveler and the Blue Raja -- assemble a new super team to save him.\", \"genres\": \"Adventure*Fantasy*Action*Comedy*Science Fiction\", \"rating\": 5.7, \"total_votes\": 573, \"tag_line\": \"We\\'re not your classic heroes, we\\'re the other guys.\", \"status\": \"Released\"}, \"movie3\": {\"title\": \"Deep Rising\", \"poster\": \"https://image.tmdb.org/t/p/original/A1nOnrAlG3EbOvzgZt2ya11OmjQ.jpg\", \"overview\": \"A group of heavily armed hijackers board a luxury ocean liner in the South Pacific Ocean to loot it, only to do battle with a series of large-sized, tentacled, man-eating sea creatures who have taken over the ship first.\", \"genres\": \"Adventure*Action*Horror*Science Fiction\", \"rating\": 6.2, \"total_votes\": 428, \"tag_line\": \"Full scream ahead\", \"status\": \"Released\"}, \"movie4\": {\"title\": \"Dragonball Evolution\", \"poster\": \"https://image.tmdb.org/t/p/original/sunS9xhPnFNP5wlOWrvbpBteAB.jpg\", \"overview\": \"The young warrior Son Goku sets out on a quest, racing against time and the vengeful King Piccolo, to collect a set of seven magical orbs that will grant their wielder unlimited power.\", \"genres\": \"Action*Adventure*Fantasy*Science Fiction*Thriller\", \"rating\": 2.8, \"total_votes\": 1468, \"tag_line\": \"The legend comes to life.\", \"status\": \"Released\"}, \"movie5\": {\"title\": \"Terminator 2: Judgment Day\", \"poster\": \"https://image.tmdb.org/t/p/original/weVXMD5QBGeQil4HEATZqAkXeEc.jpg\", \"overview\": \"Nearly 10 years have passed since Sarah Connor was targeted for termination by a cyborg from the future. Now her son, John, the future leader of the resistance, is the target for a newer, more deadly terminator. Once again, the resistance has managed to send a protector back to attempt to save John and his mother Sarah.\", \"genres\": \"Action*Thriller*Science Fiction\", \"rating\": 8.0, \"total_votes\": 9355, \"tag_line\": \"It\\'s nothing personal.\", \"status\": \"Released\"}, \"movie6\": {\"title\": \"The Terminator\", \"poster\": \"https://image.tmdb.org/t/p/original/qvktm0BHcnmDpul4Hz01GIazWPr.jpg\", \"overview\": \"In the post-apocalyptic future, reigning tyrannical supercomputers teleport a cyborg assassin known as the \\\\\"Terminator\\\\\" back to 1984 to kill Sarah Connor, whose unborn son is destined to lead insurgents against 21st century mechanical hegemony. Meanwhile, the human-resistance movement dispatches a lone warrior to safeguard Sarah. Can he stop the virtually indestructible killing machine?\", \"genres\": \"Action*Thriller*Science Fiction\", \"rating\": 7.6, \"total_votes\": 9435, \"tag_line\": \"Your future is in its hands.\", \"status\": \"Released\"}, \"movie7\": {\"title\": \"Blade: Trinity\", \"poster\": \"https://image.tmdb.org/t/p/original/iQ2fyewqYDNmcUN18m8XbRGWgIM.jpg\", \"overview\": \"For years, Blade has fought against the vampires in the cover of the night. But now, after falling into the crosshairs of the FBI, he is forced out into the daylight, where he is driven to join forces with a clan of human vampire hunters he never knew existed\\\\u2014The Nightstalkers. Together with Abigail and Hannibal, two deftly trained Nightstalkers, Blade follows a trail of blood to the ancient creature that is also hunting him\\\\u2014the original vampire, Dracula.\", \"genres\": \"Action*Horror*Fantasy\", \"rating\": 5.9, \"total_votes\": 2852, \"tag_line\": \"The final hunt begins.\", \"status\": \"Released\"}, \"movie8\": {\"title\": \"Star Wars: The Clone Wars\", \"poster\": \"https://image.tmdb.org/t/p/original/ywRtBu88SLAkNxD0GFib6qsFkBK.jpg\", \"overview\": \"Set between Episode II and III, The Clone Wars is the first computer animated Star Wars film. Anakin and Obi Wan must find out who kidnapped Jabba the Hutt\\'s son and return him safely. The Seperatists will try anything to stop them and ruin any chance of a diplomatic agreement between the Hutts and the Republic.\", \"genres\": \"Animation*Action*Science Fiction*Adventure\", \"rating\": 6.0, \"total_votes\": 1371, \"tag_line\": \"\", \"status\": \"Released\"}, \"movie9\": {\"title\": \"The Amazing Spider-Man 2\", \"poster\": \"https://image.tmdb.org/t/p/original/h4NC0pkqvDX7Q6TI3PyW4NJKEYi.jpg\", \"overview\": \"For Peter Parker, life is busy. Between taking out the bad guys as Spider-Man and spending time with the person he loves, Gwen Stacy, high school graduation cannot come quickly enough. Peter has not forgotten about the promise he made to Gwen\\\\u2019s father to protect her by staying away, but that is a promise he cannot keep. Things will change for Peter when a new villain, Electro, emerges, an old friend, Harry Osborn, returns, and Peter uncovers new clues about his past.\", \"genres\": \"Action*Adventure*Fantasy\", \"rating\": 6.4, \"total_votes\": 9352, \"tag_line\": \"No more secrets.\", \"status\": \"Released\"}, \"movie10\": {\"title\": \"2012\", \"poster\": \"https://image.tmdb.org/t/p/original/zaqam2RNscH5ooYFWInV6hjx6y5.jpg\", \"overview\": \"Dr. Adrian Helmsley, part of a worldwide geophysical team investigating the effect on the earth of radiation from unprecedented solar storms, learns that the earth\\'s core is heating up. He warns U.S. President Thomas Wilson that the crust of the earth is becoming unstable and that without proper preparations for saving a fraction of the world\\'s population, the entire race is doomed. Meanwhile, writer Jackson Curtis stumbles on the same information. While the world\\'s leaders race to build \\\\\"arks\\\\\" to escape the impending cataclysm, Curtis struggles to find a way to save his family. Meanwhile, volcanic eruptions and earthquakes of unprecedented strength wreak havoc around the world.\", \"genres\": \"Action*Adventure*Science Fiction\", \"rating\": 5.8, \"total_votes\": 9658, \"tag_line\": \"We Were Warned.\", \"status\": \"Released\"}}'"
      ]
     },
     "execution_count": 27,
     "metadata": {},
     "output_type": "execute_result"
    }
   ],
   "source": [
    "movie_recommender_engine(\"avatar\", 15)"
   ]
  },
  {
   "cell_type": "code",
   "execution_count": null,
   "metadata": {},
   "outputs": [],
   "source": []
  }
 ],
 "metadata": {
  "kernelspec": {
   "display_name": "Python 3.7.4 64-bit ('base': conda)",
   "name": "python374jvsc74a57bd0fade15c6815bf9286445d4ef9cff5d60ecb3ae6e7522d29a4984b2b5f88d2912"
  },
  "language_info": {
   "codemirror_mode": {
    "name": "ipython",
    "version": 3
   },
   "file_extension": ".py",
   "mimetype": "text/x-python",
   "name": "python",
   "nbconvert_exporter": "python",
   "pygments_lexer": "ipython3",
   "version": "3.7.4"
  },
  "orig_nbformat": 2
 },
 "nbformat": 4,
 "nbformat_minor": 2
}
